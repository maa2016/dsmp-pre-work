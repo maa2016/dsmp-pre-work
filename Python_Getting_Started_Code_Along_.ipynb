{
  "nbformat": 4,
  "nbformat_minor": 0,
  "metadata": {
    "kernelspec": {
      "display_name": "Python 3",
      "language": "python",
      "name": "python3"
    },
    "language_info": {
      "codemirror_mode": {
        "name": "ipython",
        "version": 3
      },
      "file_extension": ".py",
      "mimetype": "text/x-python",
      "name": "python",
      "nbconvert_exporter": "python",
      "pygments_lexer": "ipython3",
      "version": "3.6.7"
    },
    "colab": {
      "name": "Python Getting Started Code Along .ipynb",
      "version": "0.3.2",
      "provenance": [],
      "collapsed_sections": [],
      "toc_visible": true,
      "include_colab_link": true
    }
  },
  "cells": [
    {
      "cell_type": "markdown",
      "metadata": {
        "id": "view-in-github",
        "colab_type": "text"
      },
      "source": [
        "<a href=\"https://colab.research.google.com/github/maa2016/dsmp-pre-work/blob/master/Python_Getting_Started_Code_Along_.ipynb\" target=\"_parent\"><img src=\"https://colab.research.google.com/assets/colab-badge.svg\" alt=\"Open In Colab\"/></a>"
      ]
    },
    {
      "cell_type": "markdown",
      "metadata": {
        "id": "2GtZypPq9bPO",
        "colab_type": "text"
      },
      "source": [
        "# IPL Dataset Analysis\n",
        "\n",
        "## Problem Statement\n",
        "We want to know as to what happens during an IPL match which raises several questions in our mind with our limited knowledge about the game called cricket on which it is based. This analysis is done to know as which factors led one of the team to win and how does it matter."
      ]
    },
    {
      "cell_type": "code",
      "metadata": {
        "id": "XqUEi_rr_RjP",
        "colab_type": "code",
        "colab": {
          "base_uri": "https://localhost:8080/",
          "height": 34
        },
        "outputId": "b5267066-a069-4b1c-bf48-2b5e055a0b72"
      },
      "source": [
        "ls"
      ],
      "execution_count": 1,
      "outputs": [
        {
          "output_type": "stream",
          "text": [
            "ipl_match.yaml  \u001b[0m\u001b[01;34msample_data\u001b[0m/\n"
          ],
          "name": "stdout"
        }
      ]
    },
    {
      "cell_type": "markdown",
      "metadata": {
        "id": "sIf6clHJ9bPR",
        "colab_type": "text"
      },
      "source": [
        "## About the Dataset :\n",
        "The Indian Premier League (IPL) is a professional T20 cricket league in India contested during April-May of every year by teams representing Indian cities. It is the most-attended cricket league in the world and ranks sixth among all the sports leagues. It has teams with players from around the world and is very competitive and entertaining with a lot of close matches between teams.\n",
        "\n",
        "The IPL and other cricket related datasets are available at [cricsheet.org](https://cricsheet.org/%c2%a0(data). Feel free to visit the website and explore the data by yourself as exploring new sources of data is one of the interesting activities a data scientist gets to do."
      ]
    },
    {
      "cell_type": "code",
      "metadata": {
        "id": "RNbdkqcC_PbW",
        "colab_type": "code",
        "colab": {}
      },
      "source": [
        ""
      ],
      "execution_count": 0,
      "outputs": []
    },
    {
      "cell_type": "markdown",
      "metadata": {
        "id": "BfL7r63b9bPU",
        "colab_type": "text"
      },
      "source": [
        "### Analysing data with basic python operation"
      ]
    },
    {
      "cell_type": "markdown",
      "metadata": {
        "id": "YxoQZkXK9bPW",
        "colab_type": "text"
      },
      "source": [
        "## Read the data of the format .yaml type"
      ]
    },
    {
      "cell_type": "code",
      "metadata": {
        "id": "I6P6PCl89bPZ",
        "colab_type": "code",
        "colab": {}
      },
      "source": [
        "import yaml"
      ],
      "execution_count": 0,
      "outputs": []
    },
    {
      "cell_type": "code",
      "metadata": {
        "id": "IXKUx3299bPi",
        "colab_type": "code",
        "colab": {}
      },
      "source": [
        "# using with open command to read the file\n",
        "with open('/content/ipl_match.yaml') as f:\n",
        "    data = yaml.load(f)"
      ],
      "execution_count": 0,
      "outputs": []
    },
    {
      "cell_type": "code",
      "metadata": {
        "id": "deUFx4cC9bPq",
        "colab_type": "code",
        "colab": {},
        "outputId": "de556f4f-1cf5-4238-d0f5-ef06d432b4e1"
      },
      "source": [
        "data"
      ],
      "execution_count": 0,
      "outputs": [
        {
          "output_type": "execute_result",
          "data": {
            "text/plain": [
              "{'meta': {'data_version': 0.9,\n",
              "  'created': datetime.date(2011, 5, 6),\n",
              "  'revision': 2},\n",
              " 'info': {'city': 'Bangalore',\n",
              "  'competition': 'IPL',\n",
              "  'dates': [datetime.date(2008, 4, 18)],\n",
              "  'gender': 'male',\n",
              "  'match_type': 'T20',\n",
              "  'outcome': {'by': {'runs': 140}, 'winner': 'Kolkata Knight Riders'},\n",
              "  'overs': 20,\n",
              "  'player_of_match': ['BB McCullum'],\n",
              "  'teams': ['Royal Challengers Bangalore', 'Kolkata Knight Riders'],\n",
              "  'toss': {'decision': 'field', 'winner': 'Royal Challengers Bangalore'},\n",
              "  'umpires': ['Asad Rauf', 'RE Koertzen'],\n",
              "  'venue': 'M Chinnaswamy Stadium'},\n",
              " 'innings': [{'1st innings': {'team': 'Kolkata Knight Riders',\n",
              "    'deliveries': [{0.1: {'batsman': 'SC Ganguly',\n",
              "       'bowler': 'P Kumar',\n",
              "       'extras': {'legbyes': 1},\n",
              "       'non_striker': 'BB McCullum',\n",
              "       'runs': {'batsman': 0, 'extras': 1, 'total': 1}}},\n",
              "     {0.2: {'batsman': 'BB McCullum',\n",
              "       'bowler': 'P Kumar',\n",
              "       'non_striker': 'SC Ganguly',\n",
              "       'runs': {'batsman': 0, 'extras': 0, 'total': 0}}},\n",
              "     {0.3: {'batsman': 'BB McCullum',\n",
              "       'bowler': 'P Kumar',\n",
              "       'extras': {'wides': 1},\n",
              "       'non_striker': 'SC Ganguly',\n",
              "       'runs': {'batsman': 0, 'extras': 1, 'total': 1}}},\n",
              "     {0.4: {'batsman': 'BB McCullum',\n",
              "       'bowler': 'P Kumar',\n",
              "       'non_striker': 'SC Ganguly',\n",
              "       'runs': {'batsman': 0, 'extras': 0, 'total': 0}}},\n",
              "     {0.5: {'batsman': 'BB McCullum',\n",
              "       'bowler': 'P Kumar',\n",
              "       'non_striker': 'SC Ganguly',\n",
              "       'runs': {'batsman': 0, 'extras': 0, 'total': 0}}},\n",
              "     {0.6: {'batsman': 'BB McCullum',\n",
              "       'bowler': 'P Kumar',\n",
              "       'non_striker': 'SC Ganguly',\n",
              "       'runs': {'batsman': 0, 'extras': 0, 'total': 0}}},\n",
              "     {0.7: {'batsman': 'BB McCullum',\n",
              "       'bowler': 'P Kumar',\n",
              "       'extras': {'legbyes': 1},\n",
              "       'non_striker': 'SC Ganguly',\n",
              "       'runs': {'batsman': 0, 'extras': 1, 'total': 1}}},\n",
              "     {1.1: {'batsman': 'BB McCullum',\n",
              "       'bowler': 'Z Khan',\n",
              "       'non_striker': 'SC Ganguly',\n",
              "       'runs': {'batsman': 0, 'extras': 0, 'total': 0}}},\n",
              "     {1.2: {'batsman': 'BB McCullum',\n",
              "       'bowler': 'Z Khan',\n",
              "       'non_striker': 'SC Ganguly',\n",
              "       'runs': {'batsman': 4, 'extras': 0, 'total': 4}}},\n",
              "     {1.3: {'batsman': 'BB McCullum',\n",
              "       'bowler': 'Z Khan',\n",
              "       'non_striker': 'SC Ganguly',\n",
              "       'runs': {'batsman': 4, 'extras': 0, 'total': 4}}},\n",
              "     {1.4: {'batsman': 'BB McCullum',\n",
              "       'bowler': 'Z Khan',\n",
              "       'non_striker': 'SC Ganguly',\n",
              "       'runs': {'batsman': 6, 'extras': 0, 'total': 6}}},\n",
              "     {1.5: {'batsman': 'BB McCullum',\n",
              "       'bowler': 'Z Khan',\n",
              "       'non_striker': 'SC Ganguly',\n",
              "       'runs': {'batsman': 4, 'extras': 0, 'total': 4}}},\n",
              "     {1.6: {'batsman': 'BB McCullum',\n",
              "       'bowler': 'Z Khan',\n",
              "       'non_striker': 'SC Ganguly',\n",
              "       'runs': {'batsman': 0, 'extras': 0, 'total': 0}}},\n",
              "     {2.1: {'batsman': 'SC Ganguly',\n",
              "       'bowler': 'P Kumar',\n",
              "       'non_striker': 'BB McCullum',\n",
              "       'runs': {'batsman': 0, 'extras': 0, 'total': 0}}},\n",
              "     {2.2: {'batsman': 'SC Ganguly',\n",
              "       'bowler': 'P Kumar',\n",
              "       'non_striker': 'BB McCullum',\n",
              "       'runs': {'batsman': 0, 'extras': 0, 'total': 0}}},\n",
              "     {2.3: {'batsman': 'SC Ganguly',\n",
              "       'bowler': 'P Kumar',\n",
              "       'extras': {'legbyes': 1},\n",
              "       'non_striker': 'BB McCullum',\n",
              "       'runs': {'batsman': 0, 'extras': 1, 'total': 1}}},\n",
              "     {2.4: {'batsman': 'BB McCullum',\n",
              "       'bowler': 'P Kumar',\n",
              "       'non_striker': 'SC Ganguly',\n",
              "       'runs': {'batsman': 4, 'extras': 0, 'total': 4}}},\n",
              "     {2.5: {'batsman': 'BB McCullum',\n",
              "       'bowler': 'P Kumar',\n",
              "       'non_striker': 'SC Ganguly',\n",
              "       'runs': {'batsman': 1, 'extras': 0, 'total': 1}}},\n",
              "     {2.6: {'batsman': 'SC Ganguly',\n",
              "       'bowler': 'P Kumar',\n",
              "       'non_striker': 'BB McCullum',\n",
              "       'runs': {'batsman': 0, 'extras': 0, 'total': 0}}},\n",
              "     {3.1: {'batsman': 'BB McCullum',\n",
              "       'bowler': 'AA Noffke',\n",
              "       'extras': {'wides': 5},\n",
              "       'non_striker': 'SC Ganguly',\n",
              "       'runs': {'batsman': 0, 'extras': 5, 'total': 5}}},\n",
              "     {3.2: {'batsman': 'BB McCullum',\n",
              "       'bowler': 'AA Noffke',\n",
              "       'non_striker': 'SC Ganguly',\n",
              "       'runs': {'batsman': 6, 'extras': 0, 'total': 6}}},\n",
              "     {3.3: {'batsman': 'BB McCullum',\n",
              "       'bowler': 'AA Noffke',\n",
              "       'extras': {'legbyes': 1},\n",
              "       'non_striker': 'SC Ganguly',\n",
              "       'runs': {'batsman': 0, 'extras': 1, 'total': 1}}},\n",
              "     {3.4: {'batsman': 'SC Ganguly',\n",
              "       'bowler': 'AA Noffke',\n",
              "       'non_striker': 'BB McCullum',\n",
              "       'runs': {'batsman': 4, 'extras': 0, 'total': 4}}},\n",
              "     {3.5: {'batsman': 'SC Ganguly',\n",
              "       'bowler': 'AA Noffke',\n",
              "       'non_striker': 'BB McCullum',\n",
              "       'runs': {'batsman': 0, 'extras': 0, 'total': 0}}},\n",
              "     {3.6: {'batsman': 'SC Ganguly',\n",
              "       'bowler': 'AA Noffke',\n",
              "       'non_striker': 'BB McCullum',\n",
              "       'runs': {'batsman': 1, 'extras': 0, 'total': 1}}},\n",
              "     {3.7: {'batsman': 'BB McCullum',\n",
              "       'bowler': 'AA Noffke',\n",
              "       'non_striker': 'SC Ganguly',\n",
              "       'runs': {'batsman': 6, 'extras': 0, 'total': 6}}},\n",
              "     {4.1: {'batsman': 'SC Ganguly',\n",
              "       'bowler': 'P Kumar',\n",
              "       'non_striker': 'BB McCullum',\n",
              "       'runs': {'batsman': 4, 'extras': 0, 'total': 4}}},\n",
              "     {4.2: {'batsman': 'SC Ganguly',\n",
              "       'bowler': 'P Kumar',\n",
              "       'non_striker': 'BB McCullum',\n",
              "       'runs': {'batsman': 1, 'extras': 0, 'total': 1}}},\n",
              "     {4.3: {'batsman': 'BB McCullum',\n",
              "       'bowler': 'P Kumar',\n",
              "       'non_striker': 'SC Ganguly',\n",
              "       'runs': {'batsman': 4, 'extras': 0, 'total': 4}}},\n",
              "     {4.4: {'batsman': 'BB McCullum',\n",
              "       'bowler': 'P Kumar',\n",
              "       'non_striker': 'SC Ganguly',\n",
              "       'runs': {'batsman': 0, 'extras': 0, 'total': 0}}},\n",
              "     {4.5: {'batsman': 'BB McCullum',\n",
              "       'bowler': 'P Kumar',\n",
              "       'non_striker': 'SC Ganguly',\n",
              "       'runs': {'batsman': 1, 'extras': 0, 'total': 1}}},\n",
              "     {4.6: {'batsman': 'SC Ganguly',\n",
              "       'bowler': 'P Kumar',\n",
              "       'non_striker': 'BB McCullum',\n",
              "       'runs': {'batsman': 0, 'extras': 0, 'total': 0}}},\n",
              "     {5.1: {'batsman': 'BB McCullum',\n",
              "       'bowler': 'Z Khan',\n",
              "       'non_striker': 'SC Ganguly',\n",
              "       'runs': {'batsman': 1, 'extras': 0, 'total': 1}}},\n",
              "     {5.2: {'batsman': 'SC Ganguly',\n",
              "       'bowler': 'Z Khan',\n",
              "       'non_striker': 'BB McCullum',\n",
              "       'runs': {'batsman': 0, 'extras': 0, 'total': 0},\n",
              "       'wicket': {'fielders': ['JH Kallis'],\n",
              "        'kind': 'caught',\n",
              "        'player_out': 'SC Ganguly'}}},\n",
              "     {5.3: {'batsman': 'RT Ponting',\n",
              "       'bowler': 'Z Khan',\n",
              "       'non_striker': 'BB McCullum',\n",
              "       'runs': {'batsman': 0, 'extras': 0, 'total': 0}}},\n",
              "     {5.4: {'batsman': 'RT Ponting',\n",
              "       'bowler': 'Z Khan',\n",
              "       'non_striker': 'BB McCullum',\n",
              "       'runs': {'batsman': 0, 'extras': 0, 'total': 0}}},\n",
              "     {5.5: {'batsman': 'RT Ponting',\n",
              "       'bowler': 'Z Khan',\n",
              "       'non_striker': 'BB McCullum',\n",
              "       'runs': {'batsman': 0, 'extras': 0, 'total': 0}}},\n",
              "     {5.6: {'batsman': 'RT Ponting',\n",
              "       'bowler': 'Z Khan',\n",
              "       'non_striker': 'BB McCullum',\n",
              "       'runs': {'batsman': 0, 'extras': 0, 'total': 0}}},\n",
              "     {6.1: {'batsman': 'BB McCullum',\n",
              "       'bowler': 'AA Noffke',\n",
              "       'non_striker': 'RT Ponting',\n",
              "       'runs': {'batsman': 1, 'extras': 0, 'total': 1}}},\n",
              "     {6.2: {'batsman': 'RT Ponting',\n",
              "       'bowler': 'AA Noffke',\n",
              "       'non_striker': 'BB McCullum',\n",
              "       'runs': {'batsman': 1, 'extras': 0, 'total': 1}}},\n",
              "     {6.3: {'batsman': 'BB McCullum',\n",
              "       'bowler': 'AA Noffke',\n",
              "       'non_striker': 'RT Ponting',\n",
              "       'runs': {'batsman': 1, 'extras': 0, 'total': 1}}},\n",
              "     {6.4: {'batsman': 'RT Ponting',\n",
              "       'bowler': 'AA Noffke',\n",
              "       'non_striker': 'BB McCullum',\n",
              "       'runs': {'batsman': 2, 'extras': 0, 'total': 2}}},\n",
              "     {6.5: {'batsman': 'RT Ponting',\n",
              "       'bowler': 'AA Noffke',\n",
              "       'non_striker': 'BB McCullum',\n",
              "       'runs': {'batsman': 1, 'extras': 0, 'total': 1}}},\n",
              "     {6.6: {'batsman': 'BB McCullum',\n",
              "       'bowler': 'AA Noffke',\n",
              "       'non_striker': 'RT Ponting',\n",
              "       'runs': {'batsman': 1, 'extras': 0, 'total': 1}}},\n",
              "     {7.1: {'batsman': 'BB McCullum',\n",
              "       'bowler': 'Z Khan',\n",
              "       'non_striker': 'RT Ponting',\n",
              "       'runs': {'batsman': 0, 'extras': 0, 'total': 0}}},\n",
              "     {7.2: {'batsman': 'BB McCullum',\n",
              "       'bowler': 'Z Khan',\n",
              "       'non_striker': 'RT Ponting',\n",
              "       'runs': {'batsman': 1, 'extras': 0, 'total': 1}}},\n",
              "     {7.3: {'batsman': 'RT Ponting',\n",
              "       'bowler': 'Z Khan',\n",
              "       'non_striker': 'BB McCullum',\n",
              "       'runs': {'batsman': 1, 'extras': 0, 'total': 1}}},\n",
              "     {7.4: {'batsman': 'BB McCullum',\n",
              "       'bowler': 'Z Khan',\n",
              "       'non_striker': 'RT Ponting',\n",
              "       'runs': {'batsman': 1, 'extras': 0, 'total': 1}}},\n",
              "     {7.5: {'batsman': 'RT Ponting',\n",
              "       'bowler': 'Z Khan',\n",
              "       'non_striker': 'BB McCullum',\n",
              "       'runs': {'batsman': 1, 'extras': 0, 'total': 1}}},\n",
              "     {7.6: {'batsman': 'BB McCullum',\n",
              "       'bowler': 'Z Khan',\n",
              "       'non_striker': 'RT Ponting',\n",
              "       'runs': {'batsman': 1, 'extras': 0, 'total': 1}}},\n",
              "     {8.1: {'batsman': 'BB McCullum',\n",
              "       'bowler': 'JH Kallis',\n",
              "       'non_striker': 'RT Ponting',\n",
              "       'runs': {'batsman': 0, 'extras': 0, 'total': 0}}},\n",
              "     {8.2: {'batsman': 'BB McCullum',\n",
              "       'bowler': 'JH Kallis',\n",
              "       'non_striker': 'RT Ponting',\n",
              "       'runs': {'batsman': 0, 'extras': 0, 'total': 0}}},\n",
              "     {8.3: {'batsman': 'BB McCullum',\n",
              "       'bowler': 'JH Kallis',\n",
              "       'non_striker': 'RT Ponting',\n",
              "       'runs': {'batsman': 0, 'extras': 0, 'total': 0}}},\n",
              "     {8.4: {'batsman': 'BB McCullum',\n",
              "       'bowler': 'JH Kallis',\n",
              "       'non_striker': 'RT Ponting',\n",
              "       'runs': {'batsman': 1, 'extras': 0, 'total': 1}}},\n",
              "     {8.5: {'batsman': 'RT Ponting',\n",
              "       'bowler': 'JH Kallis',\n",
              "       'non_striker': 'BB McCullum',\n",
              "       'runs': {'batsman': 1, 'extras': 0, 'total': 1}}},\n",
              "     {8.6: {'batsman': 'BB McCullum',\n",
              "       'bowler': 'JH Kallis',\n",
              "       'non_striker': 'RT Ponting',\n",
              "       'runs': {'batsman': 2, 'extras': 0, 'total': 2}}},\n",
              "     {9.1: {'batsman': 'RT Ponting',\n",
              "       'bowler': 'SB Joshi',\n",
              "       'non_striker': 'BB McCullum',\n",
              "       'runs': {'batsman': 1, 'extras': 0, 'total': 1}}},\n",
              "     {9.2: {'batsman': 'BB McCullum',\n",
              "       'bowler': 'SB Joshi',\n",
              "       'non_striker': 'RT Ponting',\n",
              "       'runs': {'batsman': 1, 'extras': 0, 'total': 1}}},\n",
              "     {9.3: {'batsman': 'RT Ponting',\n",
              "       'bowler': 'SB Joshi',\n",
              "       'non_striker': 'BB McCullum',\n",
              "       'runs': {'batsman': 1, 'extras': 0, 'total': 1}}},\n",
              "     {9.4: {'batsman': 'BB McCullum',\n",
              "       'bowler': 'SB Joshi',\n",
              "       'non_striker': 'RT Ponting',\n",
              "       'runs': {'batsman': 0, 'extras': 0, 'total': 0}}},\n",
              "     {9.5: {'batsman': 'BB McCullum',\n",
              "       'bowler': 'SB Joshi',\n",
              "       'non_striker': 'RT Ponting',\n",
              "       'runs': {'batsman': 6, 'extras': 0, 'total': 6}}},\n",
              "     {9.6: {'batsman': 'BB McCullum',\n",
              "       'bowler': 'SB Joshi',\n",
              "       'non_striker': 'RT Ponting',\n",
              "       'runs': {'batsman': 1, 'extras': 0, 'total': 1}}},\n",
              "     {10.1: {'batsman': 'BB McCullum',\n",
              "       'bowler': 'JH Kallis',\n",
              "       'non_striker': 'RT Ponting',\n",
              "       'runs': {'batsman': 1, 'extras': 0, 'total': 1}}},\n",
              "     {10.2: {'batsman': 'RT Ponting',\n",
              "       'bowler': 'JH Kallis',\n",
              "       'non_striker': 'BB McCullum',\n",
              "       'runs': {'batsman': 4, 'extras': 0, 'total': 4}}},\n",
              "     {10.3: {'batsman': 'RT Ponting',\n",
              "       'bowler': 'JH Kallis',\n",
              "       'non_striker': 'BB McCullum',\n",
              "       'runs': {'batsman': 0, 'extras': 0, 'total': 0}}},\n",
              "     {10.4: {'batsman': 'RT Ponting',\n",
              "       'bowler': 'JH Kallis',\n",
              "       'non_striker': 'BB McCullum',\n",
              "       'runs': {'batsman': 6, 'extras': 0, 'total': 6}}},\n",
              "     {10.5: {'batsman': 'RT Ponting',\n",
              "       'bowler': 'JH Kallis',\n",
              "       'non_striker': 'BB McCullum',\n",
              "       'runs': {'batsman': 0, 'extras': 0, 'total': 0}}},\n",
              "     {10.6: {'batsman': 'RT Ponting',\n",
              "       'bowler': 'JH Kallis',\n",
              "       'extras': {'byes': 4},\n",
              "       'non_striker': 'BB McCullum',\n",
              "       'runs': {'batsman': 0, 'extras': 4, 'total': 4}}},\n",
              "     {11.1: {'batsman': 'BB McCullum',\n",
              "       'bowler': 'SB Joshi',\n",
              "       'non_striker': 'RT Ponting',\n",
              "       'runs': {'batsman': 0, 'extras': 0, 'total': 0}}},\n",
              "     {11.2: {'batsman': 'BB McCullum',\n",
              "       'bowler': 'SB Joshi',\n",
              "       'non_striker': 'RT Ponting',\n",
              "       'runs': {'batsman': 6, 'extras': 0, 'total': 6}}},\n",
              "     {11.3: {'batsman': 'BB McCullum',\n",
              "       'bowler': 'SB Joshi',\n",
              "       'non_striker': 'RT Ponting',\n",
              "       'runs': {'batsman': 2, 'extras': 0, 'total': 2}}},\n",
              "     {11.4: {'batsman': 'BB McCullum',\n",
              "       'bowler': 'SB Joshi',\n",
              "       'non_striker': 'RT Ponting',\n",
              "       'runs': {'batsman': 1, 'extras': 0, 'total': 1}}},\n",
              "     {11.5: {'batsman': 'RT Ponting',\n",
              "       'bowler': 'SB Joshi',\n",
              "       'non_striker': 'BB McCullum',\n",
              "       'runs': {'batsman': 0, 'extras': 0, 'total': 0}}},\n",
              "     {11.6: {'batsman': 'RT Ponting',\n",
              "       'bowler': 'SB Joshi',\n",
              "       'non_striker': 'BB McCullum',\n",
              "       'runs': {'batsman': 1, 'extras': 0, 'total': 1}}},\n",
              "     {12.1: {'batsman': 'RT Ponting',\n",
              "       'bowler': 'JH Kallis',\n",
              "       'non_striker': 'BB McCullum',\n",
              "       'runs': {'batsman': 0, 'extras': 0, 'total': 0},\n",
              "       'wicket': {'fielders': ['P Kumar'],\n",
              "        'kind': 'caught',\n",
              "        'player_out': 'RT Ponting'}}},\n",
              "     {12.2: {'batsman': 'BB McCullum',\n",
              "       'bowler': 'JH Kallis',\n",
              "       'non_striker': 'DJ Hussey',\n",
              "       'runs': {'batsman': 4, 'extras': 0, 'total': 4}}},\n",
              "     {12.3: {'batsman': 'BB McCullum',\n",
              "       'bowler': 'JH Kallis',\n",
              "       'non_striker': 'DJ Hussey',\n",
              "       'runs': {'batsman': 0, 'extras': 0, 'total': 0}}},\n",
              "     {12.4: {'batsman': 'BB McCullum',\n",
              "       'bowler': 'JH Kallis',\n",
              "       'non_striker': 'DJ Hussey',\n",
              "       'runs': {'batsman': 2, 'extras': 0, 'total': 2}}},\n",
              "     {12.5: {'batsman': 'BB McCullum',\n",
              "       'bowler': 'JH Kallis',\n",
              "       'extras': {'wides': 1},\n",
              "       'non_striker': 'DJ Hussey',\n",
              "       'runs': {'batsman': 0, 'extras': 1, 'total': 1}}},\n",
              "     {12.6: {'batsman': 'BB McCullum',\n",
              "       'bowler': 'JH Kallis',\n",
              "       'non_striker': 'DJ Hussey',\n",
              "       'runs': {'batsman': 4, 'extras': 0, 'total': 4}}},\n",
              "     {12.7: {'batsman': 'BB McCullum',\n",
              "       'bowler': 'JH Kallis',\n",
              "       'non_striker': 'DJ Hussey',\n",
              "       'runs': {'batsman': 1, 'extras': 0, 'total': 1}}},\n",
              "     {13.1: {'batsman': 'BB McCullum',\n",
              "       'bowler': 'SB Joshi',\n",
              "       'non_striker': 'DJ Hussey',\n",
              "       'runs': {'batsman': 1, 'extras': 0, 'total': 1}}},\n",
              "     {13.2: {'batsman': 'DJ Hussey',\n",
              "       'bowler': 'SB Joshi',\n",
              "       'non_striker': 'BB McCullum',\n",
              "       'runs': {'batsman': 0, 'extras': 0, 'total': 0}}},\n",
              "     {13.3: {'batsman': 'DJ Hussey',\n",
              "       'bowler': 'SB Joshi',\n",
              "       'non_striker': 'BB McCullum',\n",
              "       'runs': {'batsman': 1, 'extras': 0, 'total': 1}}},\n",
              "     {13.4: {'batsman': 'BB McCullum',\n",
              "       'bowler': 'SB Joshi',\n",
              "       'non_striker': 'DJ Hussey',\n",
              "       'runs': {'batsman': 1, 'extras': 0, 'total': 1}}},\n",
              "     {13.5: {'batsman': 'DJ Hussey',\n",
              "       'bowler': 'SB Joshi',\n",
              "       'non_striker': 'BB McCullum',\n",
              "       'runs': {'batsman': 1, 'extras': 0, 'total': 1}}},\n",
              "     {13.6: {'batsman': 'BB McCullum',\n",
              "       'bowler': 'SB Joshi',\n",
              "       'non_striker': 'DJ Hussey',\n",
              "       'runs': {'batsman': 2, 'extras': 0, 'total': 2}}},\n",
              "     {14.1: {'batsman': 'DJ Hussey',\n",
              "       'bowler': 'CL White',\n",
              "       'non_striker': 'BB McCullum',\n",
              "       'runs': {'batsman': 4, 'extras': 0, 'total': 4}}},\n",
              "     {14.2: {'batsman': 'DJ Hussey',\n",
              "       'bowler': 'CL White',\n",
              "       'non_striker': 'BB McCullum',\n",
              "       'runs': {'batsman': 1, 'extras': 0, 'total': 1}}},\n",
              "     {14.3: {'batsman': 'BB McCullum',\n",
              "       'bowler': 'CL White',\n",
              "       'non_striker': 'DJ Hussey',\n",
              "       'runs': {'batsman': 6, 'extras': 0, 'total': 6}}},\n",
              "     {14.4: {'batsman': 'BB McCullum',\n",
              "       'bowler': 'CL White',\n",
              "       'non_striker': 'DJ Hussey',\n",
              "       'runs': {'batsman': 4, 'extras': 0, 'total': 4}}},\n",
              "     {14.5: {'batsman': 'BB McCullum',\n",
              "       'bowler': 'CL White',\n",
              "       'extras': {'wides': 2},\n",
              "       'non_striker': 'DJ Hussey',\n",
              "       'runs': {'batsman': 0, 'extras': 2, 'total': 2}}},\n",
              "     {14.6: {'batsman': 'DJ Hussey',\n",
              "       'bowler': 'CL White',\n",
              "       'non_striker': 'BB McCullum',\n",
              "       'runs': {'batsman': 1, 'extras': 0, 'total': 1}}},\n",
              "     {14.7: {'batsman': 'BB McCullum',\n",
              "       'bowler': 'CL White',\n",
              "       'non_striker': 'DJ Hussey',\n",
              "       'runs': {'batsman': 6, 'extras': 0, 'total': 6}}},\n",
              "     {15.1: {'batsman': 'DJ Hussey',\n",
              "       'bowler': 'AA Noffke',\n",
              "       'non_striker': 'BB McCullum',\n",
              "       'runs': {'batsman': 0, 'extras': 0, 'total': 0}}},\n",
              "     {15.2: {'batsman': 'DJ Hussey',\n",
              "       'bowler': 'AA Noffke',\n",
              "       'non_striker': 'BB McCullum',\n",
              "       'runs': {'batsman': 1, 'extras': 0, 'total': 1}}},\n",
              "     {15.3: {'batsman': 'BB McCullum',\n",
              "       'bowler': 'AA Noffke',\n",
              "       'non_striker': 'DJ Hussey',\n",
              "       'runs': {'batsman': 2, 'extras': 0, 'total': 2}}},\n",
              "     {15.4: {'batsman': 'BB McCullum',\n",
              "       'bowler': 'AA Noffke',\n",
              "       'non_striker': 'DJ Hussey',\n",
              "       'runs': {'batsman': 0, 'extras': 0, 'total': 0}}},\n",
              "     {15.5: {'batsman': 'BB McCullum',\n",
              "       'bowler': 'AA Noffke',\n",
              "       'non_striker': 'DJ Hussey',\n",
              "       'runs': {'batsman': 1, 'extras': 0, 'total': 1}}},\n",
              "     {15.6: {'batsman': 'DJ Hussey',\n",
              "       'bowler': 'AA Noffke',\n",
              "       'non_striker': 'BB McCullum',\n",
              "       'runs': {'batsman': 0, 'extras': 0, 'total': 0}}},\n",
              "     {16.1: {'batsman': 'BB McCullum',\n",
              "       'bowler': 'Z Khan',\n",
              "       'non_striker': 'DJ Hussey',\n",
              "       'runs': {'batsman': 1, 'extras': 0, 'total': 1}}},\n",
              "     {16.2: {'batsman': 'DJ Hussey',\n",
              "       'bowler': 'Z Khan',\n",
              "       'non_striker': 'BB McCullum',\n",
              "       'runs': {'batsman': 2, 'extras': 0, 'total': 2}}},\n",
              "     {16.3: {'batsman': 'DJ Hussey',\n",
              "       'bowler': 'Z Khan',\n",
              "       'non_striker': 'BB McCullum',\n",
              "       'runs': {'batsman': 1, 'extras': 0, 'total': 1}}},\n",
              "     {16.4: {'batsman': 'BB McCullum',\n",
              "       'bowler': 'Z Khan',\n",
              "       'non_striker': 'DJ Hussey',\n",
              "       'runs': {'batsman': 6, 'extras': 0, 'total': 6}}},\n",
              "     {16.5: {'batsman': 'BB McCullum',\n",
              "       'bowler': 'Z Khan',\n",
              "       'non_striker': 'DJ Hussey',\n",
              "       'runs': {'batsman': 2, 'extras': 0, 'total': 2}}},\n",
              "     {16.6: {'batsman': 'BB McCullum',\n",
              "       'bowler': 'Z Khan',\n",
              "       'non_striker': 'DJ Hussey',\n",
              "       'runs': {'batsman': 2, 'extras': 0, 'total': 2}}},\n",
              "     {17.1: {'batsman': 'DJ Hussey',\n",
              "       'bowler': 'AA Noffke',\n",
              "       'non_striker': 'BB McCullum',\n",
              "       'runs': {'batsman': 0, 'extras': 0, 'total': 0},\n",
              "       'wicket': {'fielders': ['CL White'],\n",
              "        'kind': 'caught',\n",
              "        'player_out': 'DJ Hussey'}}},\n",
              "     {17.2: {'batsman': 'BB McCullum',\n",
              "       'bowler': 'AA Noffke',\n",
              "       'non_striker': 'Mohammad Hafeez',\n",
              "       'runs': {'batsman': 1, 'extras': 0, 'total': 1}}},\n",
              "     {17.3: {'batsman': 'Mohammad Hafeez',\n",
              "       'bowler': 'AA Noffke',\n",
              "       'non_striker': 'BB McCullum',\n",
              "       'runs': {'batsman': 0, 'extras': 0, 'total': 0}}},\n",
              "     {17.4: {'batsman': 'Mohammad Hafeez',\n",
              "       'bowler': 'AA Noffke',\n",
              "       'non_striker': 'BB McCullum',\n",
              "       'runs': {'batsman': 1, 'extras': 0, 'total': 1}}},\n",
              "     {17.5: {'batsman': 'BB McCullum',\n",
              "       'bowler': 'AA Noffke',\n",
              "       'non_striker': 'Mohammad Hafeez',\n",
              "       'runs': {'batsman': 4, 'extras': 0, 'total': 4}}},\n",
              "     {17.6: {'batsman': 'BB McCullum',\n",
              "       'bowler': 'AA Noffke',\n",
              "       'non_striker': 'Mohammad Hafeez',\n",
              "       'runs': {'batsman': 1, 'extras': 0, 'total': 1}}},\n",
              "     {18.1: {'batsman': 'BB McCullum',\n",
              "       'bowler': 'JH Kallis',\n",
              "       'non_striker': 'Mohammad Hafeez',\n",
              "       'runs': {'batsman': 6, 'extras': 0, 'total': 6}}},\n",
              "     {18.2: {'batsman': 'BB McCullum',\n",
              "       'bowler': 'JH Kallis',\n",
              "       'non_striker': 'Mohammad Hafeez',\n",
              "       'runs': {'batsman': 0, 'extras': 0, 'total': 0}}},\n",
              "     {18.3: {'batsman': 'BB McCullum',\n",
              "       'bowler': 'JH Kallis',\n",
              "       'non_striker': 'Mohammad Hafeez',\n",
              "       'runs': {'batsman': 6, 'extras': 0, 'total': 6}}},\n",
              "     {18.4: {'batsman': 'BB McCullum',\n",
              "       'bowler': 'JH Kallis',\n",
              "       'non_striker': 'Mohammad Hafeez',\n",
              "       'runs': {'batsman': 4, 'extras': 0, 'total': 4}}},\n",
              "     {18.5: {'batsman': 'BB McCullum',\n",
              "       'bowler': 'JH Kallis',\n",
              "       'non_striker': 'Mohammad Hafeez',\n",
              "       'runs': {'batsman': 1, 'extras': 0, 'total': 1}}},\n",
              "     {18.6: {'batsman': 'Mohammad Hafeez',\n",
              "       'bowler': 'JH Kallis',\n",
              "       'non_striker': 'BB McCullum',\n",
              "       'runs': {'batsman': 4, 'extras': 0, 'total': 4}}},\n",
              "     {19.1: {'batsman': 'BB McCullum',\n",
              "       'bowler': 'P Kumar',\n",
              "       'non_striker': 'Mohammad Hafeez',\n",
              "       'runs': {'batsman': 6, 'extras': 0, 'total': 6}}},\n",
              "     {19.2: {'batsman': 'BB McCullum',\n",
              "       'bowler': 'P Kumar',\n",
              "       'non_striker': 'Mohammad Hafeez',\n",
              "       'runs': {'batsman': 6, 'extras': 0, 'total': 6}}},\n",
              "     {19.3: {'batsman': 'BB McCullum',\n",
              "       'bowler': 'P Kumar',\n",
              "       'non_striker': 'Mohammad Hafeez',\n",
              "       'runs': {'batsman': 2, 'extras': 0, 'total': 2}}},\n",
              "     {19.4: {'batsman': 'BB McCullum',\n",
              "       'bowler': 'P Kumar',\n",
              "       'non_striker': 'Mohammad Hafeez',\n",
              "       'runs': {'batsman': 0, 'extras': 0, 'total': 0}}},\n",
              "     {19.5: {'batsman': 'BB McCullum',\n",
              "       'bowler': 'P Kumar',\n",
              "       'non_striker': 'Mohammad Hafeez',\n",
              "       'runs': {'batsman': 2, 'extras': 0, 'total': 2}}},\n",
              "     {19.6: {'batsman': 'BB McCullum',\n",
              "       'bowler': 'P Kumar',\n",
              "       'non_striker': 'Mohammad Hafeez',\n",
              "       'runs': {'batsman': 6, 'extras': 0, 'total': 6}}}]}},\n",
              "  {'2nd innings': {'team': 'Royal Challengers Bangalore',\n",
              "    'deliveries': [{0.1: {'batsman': 'R Dravid',\n",
              "       'bowler': 'AB Dinda',\n",
              "       'non_striker': 'W Jaffer',\n",
              "       'runs': {'batsman': 1, 'extras': 0, 'total': 1}}},\n",
              "     {0.2: {'batsman': 'W Jaffer',\n",
              "       'bowler': 'AB Dinda',\n",
              "       'extras': {'wides': 1},\n",
              "       'non_striker': 'R Dravid',\n",
              "       'runs': {'batsman': 0, 'extras': 1, 'total': 1}}},\n",
              "     {0.3: {'batsman': 'W Jaffer',\n",
              "       'bowler': 'AB Dinda',\n",
              "       'non_striker': 'R Dravid',\n",
              "       'runs': {'batsman': 0, 'extras': 0, 'total': 0}}},\n",
              "     {0.4: {'batsman': 'W Jaffer',\n",
              "       'bowler': 'AB Dinda',\n",
              "       'non_striker': 'R Dravid',\n",
              "       'runs': {'batsman': 1, 'extras': 0, 'total': 1}}},\n",
              "     {0.5: {'batsman': 'R Dravid',\n",
              "       'bowler': 'AB Dinda',\n",
              "       'non_striker': 'W Jaffer',\n",
              "       'runs': {'batsman': 1, 'extras': 0, 'total': 1}}},\n",
              "     {0.6: {'batsman': 'W Jaffer',\n",
              "       'bowler': 'AB Dinda',\n",
              "       'non_striker': 'R Dravid',\n",
              "       'runs': {'batsman': 0, 'extras': 0, 'total': 0}}},\n",
              "     {0.7: {'batsman': 'W Jaffer',\n",
              "       'bowler': 'AB Dinda',\n",
              "       'non_striker': 'R Dravid',\n",
              "       'runs': {'batsman': 0, 'extras': 0, 'total': 0}}},\n",
              "     {1.1: {'batsman': 'R Dravid',\n",
              "       'bowler': 'I Sharma',\n",
              "       'non_striker': 'W Jaffer',\n",
              "       'runs': {'batsman': 0, 'extras': 0, 'total': 0},\n",
              "       'wicket': {'kind': 'bowled', 'player_out': 'R Dravid'}}},\n",
              "     {1.2: {'batsman': 'V Kohli',\n",
              "       'bowler': 'I Sharma',\n",
              "       'non_striker': 'W Jaffer',\n",
              "       'runs': {'batsman': 0, 'extras': 0, 'total': 0}}},\n",
              "     {1.3: {'batsman': 'V Kohli',\n",
              "       'bowler': 'I Sharma',\n",
              "       'extras': {'legbyes': 4},\n",
              "       'non_striker': 'W Jaffer',\n",
              "       'runs': {'batsman': 0, 'extras': 4, 'total': 4}}},\n",
              "     {1.4: {'batsman': 'V Kohli',\n",
              "       'bowler': 'I Sharma',\n",
              "       'non_striker': 'W Jaffer',\n",
              "       'runs': {'batsman': 1, 'extras': 0, 'total': 1}}},\n",
              "     {1.5: {'batsman': 'W Jaffer',\n",
              "       'bowler': 'I Sharma',\n",
              "       'non_striker': 'V Kohli',\n",
              "       'runs': {'batsman': 0, 'extras': 0, 'total': 0}}},\n",
              "     {1.6: {'batsman': 'W Jaffer',\n",
              "       'bowler': 'I Sharma',\n",
              "       'non_striker': 'V Kohli',\n",
              "       'runs': {'batsman': 0, 'extras': 0, 'total': 0}}},\n",
              "     {2.1: {'batsman': 'V Kohli',\n",
              "       'bowler': 'AB Dinda',\n",
              "       'non_striker': 'W Jaffer',\n",
              "       'runs': {'batsman': 0, 'extras': 0, 'total': 0}}},\n",
              "     {2.2: {'batsman': 'V Kohli',\n",
              "       'bowler': 'AB Dinda',\n",
              "       'non_striker': 'W Jaffer',\n",
              "       'runs': {'batsman': 0, 'extras': 0, 'total': 0},\n",
              "       'wicket': {'kind': 'bowled', 'player_out': 'V Kohli'}}},\n",
              "     {2.3: {'batsman': 'JH Kallis',\n",
              "       'bowler': 'AB Dinda',\n",
              "       'non_striker': 'W Jaffer',\n",
              "       'runs': {'batsman': 1, 'extras': 0, 'total': 1}}},\n",
              "     {2.4: {'batsman': 'W Jaffer',\n",
              "       'bowler': 'AB Dinda',\n",
              "       'non_striker': 'JH Kallis',\n",
              "       'runs': {'batsman': 0, 'extras': 0, 'total': 0}}},\n",
              "     {2.5: {'batsman': 'W Jaffer',\n",
              "       'bowler': 'AB Dinda',\n",
              "       'extras': {'wides': 1},\n",
              "       'non_striker': 'JH Kallis',\n",
              "       'runs': {'batsman': 0, 'extras': 1, 'total': 1}}},\n",
              "     {2.6: {'batsman': 'W Jaffer',\n",
              "       'bowler': 'AB Dinda',\n",
              "       'non_striker': 'JH Kallis',\n",
              "       'runs': {'batsman': 0, 'extras': 0, 'total': 0}}},\n",
              "     {2.7: {'batsman': 'W Jaffer',\n",
              "       'bowler': 'AB Dinda',\n",
              "       'non_striker': 'JH Kallis',\n",
              "       'runs': {'batsman': 1, 'extras': 0, 'total': 1}}},\n",
              "     {3.1: {'batsman': 'W Jaffer',\n",
              "       'bowler': 'I Sharma',\n",
              "       'non_striker': 'JH Kallis',\n",
              "       'runs': {'batsman': 2, 'extras': 0, 'total': 2}}},\n",
              "     {3.2: {'batsman': 'W Jaffer',\n",
              "       'bowler': 'I Sharma',\n",
              "       'non_striker': 'JH Kallis',\n",
              "       'runs': {'batsman': 1, 'extras': 0, 'total': 1}}},\n",
              "     {3.3: {'batsman': 'JH Kallis',\n",
              "       'bowler': 'I Sharma',\n",
              "       'non_striker': 'W Jaffer',\n",
              "       'runs': {'batsman': 0, 'extras': 0, 'total': 0}}},\n",
              "     {3.4: {'batsman': 'JH Kallis',\n",
              "       'bowler': 'I Sharma',\n",
              "       'extras': {'legbyes': 1},\n",
              "       'non_striker': 'W Jaffer',\n",
              "       'runs': {'batsman': 0, 'extras': 1, 'total': 1}}},\n",
              "     {3.5: {'batsman': 'W Jaffer',\n",
              "       'bowler': 'I Sharma',\n",
              "       'non_striker': 'JH Kallis',\n",
              "       'runs': {'batsman': 0, 'extras': 0, 'total': 0}}},\n",
              "     {3.6: {'batsman': 'W Jaffer',\n",
              "       'bowler': 'I Sharma',\n",
              "       'non_striker': 'JH Kallis',\n",
              "       'runs': {'batsman': 0, 'extras': 0, 'total': 0}}},\n",
              "     {4.1: {'batsman': 'JH Kallis',\n",
              "       'bowler': 'AB Agarkar',\n",
              "       'non_striker': 'W Jaffer',\n",
              "       'runs': {'batsman': 1, 'extras': 0, 'total': 1}}},\n",
              "     {4.2: {'batsman': 'W Jaffer',\n",
              "       'bowler': 'AB Agarkar',\n",
              "       'non_striker': 'JH Kallis',\n",
              "       'runs': {'batsman': 1, 'extras': 0, 'total': 1}}},\n",
              "     {4.3: {'batsman': 'JH Kallis',\n",
              "       'bowler': 'AB Agarkar',\n",
              "       'non_striker': 'W Jaffer',\n",
              "       'runs': {'batsman': 0, 'extras': 0, 'total': 0}}},\n",
              "     {4.4: {'batsman': 'JH Kallis',\n",
              "       'bowler': 'AB Agarkar',\n",
              "       'non_striker': 'W Jaffer',\n",
              "       'runs': {'batsman': 6, 'extras': 0, 'total': 6}}},\n",
              "     {4.5: {'batsman': 'JH Kallis',\n",
              "       'bowler': 'AB Agarkar',\n",
              "       'non_striker': 'W Jaffer',\n",
              "       'runs': {'batsman': 0, 'extras': 0, 'total': 0},\n",
              "       'wicket': {'fielders': ['M Kartik'],\n",
              "        'kind': 'caught',\n",
              "        'player_out': 'JH Kallis'}}},\n",
              "     {4.6: {'batsman': 'CL White',\n",
              "       'bowler': 'AB Agarkar',\n",
              "       'non_striker': 'W Jaffer',\n",
              "       'runs': {'batsman': 0, 'extras': 0, 'total': 0}}},\n",
              "     {5.1: {'batsman': 'W Jaffer',\n",
              "       'bowler': 'AB Dinda',\n",
              "       'non_striker': 'CL White',\n",
              "       'runs': {'batsman': 0, 'extras': 0, 'total': 0}}},\n",
              "     {5.2: {'batsman': 'W Jaffer',\n",
              "       'bowler': 'AB Dinda',\n",
              "       'non_striker': 'CL White',\n",
              "       'runs': {'batsman': 0, 'extras': 0, 'total': 0},\n",
              "       'wicket': {'fielders': ['RT Ponting'],\n",
              "        'kind': 'caught',\n",
              "        'player_out': 'W Jaffer'}}},\n",
              "     {5.3: {'batsman': 'MV Boucher',\n",
              "       'bowler': 'AB Dinda',\n",
              "       'non_striker': 'CL White',\n",
              "       'runs': {'batsman': 0, 'extras': 0, 'total': 0}}},\n",
              "     {5.4: {'batsman': 'MV Boucher',\n",
              "       'bowler': 'AB Dinda',\n",
              "       'non_striker': 'CL White',\n",
              "       'runs': {'batsman': 1, 'extras': 0, 'total': 1}}},\n",
              "     {5.5: {'batsman': 'CL White',\n",
              "       'bowler': 'AB Dinda',\n",
              "       'non_striker': 'MV Boucher',\n",
              "       'runs': {'batsman': 1, 'extras': 0, 'total': 1}}},\n",
              "     {5.6: {'batsman': 'MV Boucher',\n",
              "       'bowler': 'AB Dinda',\n",
              "       'non_striker': 'CL White',\n",
              "       'runs': {'batsman': 0, 'extras': 0, 'total': 0}}},\n",
              "     {6.1: {'batsman': 'CL White',\n",
              "       'bowler': 'AB Agarkar',\n",
              "       'non_striker': 'MV Boucher',\n",
              "       'runs': {'batsman': 0, 'extras': 0, 'total': 0}}},\n",
              "     {6.2: {'batsman': 'CL White',\n",
              "       'bowler': 'AB Agarkar',\n",
              "       'non_striker': 'MV Boucher',\n",
              "       'runs': {'batsman': 0, 'extras': 0, 'total': 0}}},\n",
              "     {6.3: {'batsman': 'CL White',\n",
              "       'bowler': 'AB Agarkar',\n",
              "       'non_striker': 'MV Boucher',\n",
              "       'runs': {'batsman': 1, 'extras': 0, 'total': 1}}},\n",
              "     {6.4: {'batsman': 'MV Boucher',\n",
              "       'bowler': 'AB Agarkar',\n",
              "       'extras': {'wides': 1},\n",
              "       'non_striker': 'CL White',\n",
              "       'runs': {'batsman': 0, 'extras': 1, 'total': 1}}},\n",
              "     {6.5: {'batsman': 'MV Boucher',\n",
              "       'bowler': 'AB Agarkar',\n",
              "       'extras': {'wides': 1},\n",
              "       'non_striker': 'CL White',\n",
              "       'runs': {'batsman': 0, 'extras': 1, 'total': 1}}},\n",
              "     {6.6: {'batsman': 'MV Boucher',\n",
              "       'bowler': 'AB Agarkar',\n",
              "       'non_striker': 'CL White',\n",
              "       'runs': {'batsman': 0, 'extras': 0, 'total': 0}}},\n",
              "     {6.7: {'batsman': 'MV Boucher',\n",
              "       'bowler': 'AB Agarkar',\n",
              "       'non_striker': 'CL White',\n",
              "       'runs': {'batsman': 0, 'extras': 0, 'total': 0}}},\n",
              "     {6.8: {'batsman': 'MV Boucher',\n",
              "       'bowler': 'AB Agarkar',\n",
              "       'non_striker': 'CL White',\n",
              "       'runs': {'batsman': 4, 'extras': 0, 'total': 4}}},\n",
              "     {7.1: {'batsman': 'CL White',\n",
              "       'bowler': 'SC Ganguly',\n",
              "       'non_striker': 'MV Boucher',\n",
              "       'runs': {'batsman': 1, 'extras': 0, 'total': 1}}},\n",
              "     {7.2: {'batsman': 'MV Boucher',\n",
              "       'bowler': 'SC Ganguly',\n",
              "       'extras': {'legbyes': 1},\n",
              "       'non_striker': 'CL White',\n",
              "       'runs': {'batsman': 0, 'extras': 1, 'total': 1}}},\n",
              "     {7.3: {'batsman': 'CL White',\n",
              "       'bowler': 'SC Ganguly',\n",
              "       'non_striker': 'MV Boucher',\n",
              "       'runs': {'batsman': 1, 'extras': 0, 'total': 1}}},\n",
              "     {7.4: {'batsman': 'MV Boucher',\n",
              "       'bowler': 'SC Ganguly',\n",
              "       'non_striker': 'CL White',\n",
              "       'runs': {'batsman': 2, 'extras': 0, 'total': 2}}},\n",
              "     {7.5: {'batsman': 'MV Boucher',\n",
              "       'bowler': 'SC Ganguly',\n",
              "       'non_striker': 'CL White',\n",
              "       'runs': {'batsman': 0, 'extras': 0, 'total': 0},\n",
              "       'wicket': {'fielders': ['M Kartik'],\n",
              "        'kind': 'caught',\n",
              "        'player_out': 'MV Boucher'}}},\n",
              "     {7.6: {'batsman': 'CL White',\n",
              "       'bowler': 'SC Ganguly',\n",
              "       'non_striker': 'B Akhil',\n",
              "       'runs': {'batsman': 0, 'extras': 0, 'total': 0}}},\n",
              "     {8.1: {'batsman': 'B Akhil',\n",
              "       'bowler': 'AB Agarkar',\n",
              "       'non_striker': 'CL White',\n",
              "       'runs': {'batsman': 0, 'extras': 0, 'total': 0}}},\n",
              "     {8.2: {'batsman': 'B Akhil',\n",
              "       'bowler': 'AB Agarkar',\n",
              "       'non_striker': 'CL White',\n",
              "       'runs': {'batsman': 0, 'extras': 0, 'total': 0},\n",
              "       'wicket': {'fielders': ['RT Ponting'],\n",
              "        'kind': 'caught',\n",
              "        'player_out': 'B Akhil'}}},\n",
              "     {8.3: {'batsman': 'AA Noffke',\n",
              "       'bowler': 'AB Agarkar',\n",
              "       'non_striker': 'CL White',\n",
              "       'runs': {'batsman': 0, 'extras': 0, 'total': 0}}},\n",
              "     {8.4: {'batsman': 'AA Noffke',\n",
              "       'bowler': 'AB Agarkar',\n",
              "       'extras': {'wides': 1},\n",
              "       'non_striker': 'CL White',\n",
              "       'runs': {'batsman': 0, 'extras': 1, 'total': 1}}},\n",
              "     {8.5: {'batsman': 'AA Noffke',\n",
              "       'bowler': 'AB Agarkar',\n",
              "       'extras': {'wides': 1},\n",
              "       'non_striker': 'CL White',\n",
              "       'runs': {'batsman': 0, 'extras': 1, 'total': 1}}},\n",
              "     {8.6: {'batsman': 'AA Noffke',\n",
              "       'bowler': 'AB Agarkar',\n",
              "       'non_striker': 'CL White',\n",
              "       'runs': {'batsman': 1, 'extras': 0, 'total': 1}}},\n",
              "     {8.7: {'batsman': 'CL White',\n",
              "       'bowler': 'AB Agarkar',\n",
              "       'non_striker': 'AA Noffke',\n",
              "       'runs': {'batsman': 2, 'extras': 0, 'total': 2}}},\n",
              "     {8.8: {'batsman': 'CL White',\n",
              "       'bowler': 'AB Agarkar',\n",
              "       'non_striker': 'AA Noffke',\n",
              "       'runs': {'batsman': 0, 'extras': 0, 'total': 0},\n",
              "       'wicket': {'fielders': ['WP Saha'],\n",
              "        'kind': 'caught',\n",
              "        'player_out': 'CL White'}}},\n",
              "     {9.1: {'batsman': 'AA Noffke',\n",
              "       'bowler': 'SC Ganguly',\n",
              "       'non_striker': 'P Kumar',\n",
              "       'runs': {'batsman': 1, 'extras': 0, 'total': 1}}},\n",
              "     {9.2: {'batsman': 'P Kumar',\n",
              "       'bowler': 'SC Ganguly',\n",
              "       'non_striker': 'AA Noffke',\n",
              "       'runs': {'batsman': 0, 'extras': 0, 'total': 0}}},\n",
              "     {9.3: {'batsman': 'P Kumar',\n",
              "       'bowler': 'SC Ganguly',\n",
              "       'non_striker': 'AA Noffke',\n",
              "       'runs': {'batsman': 0, 'extras': 0, 'total': 0}}},\n",
              "     {9.4: {'batsman': 'P Kumar',\n",
              "       'bowler': 'SC Ganguly',\n",
              "       'extras': {'wides': 1},\n",
              "       'non_striker': 'AA Noffke',\n",
              "       'runs': {'batsman': 0, 'extras': 1, 'total': 1}}},\n",
              "     {9.5: {'batsman': 'P Kumar',\n",
              "       'bowler': 'SC Ganguly',\n",
              "       'extras': {'legbyes': 1},\n",
              "       'non_striker': 'AA Noffke',\n",
              "       'runs': {'batsman': 0, 'extras': 1, 'total': 1}}},\n",
              "     {9.6: {'batsman': 'AA Noffke',\n",
              "       'bowler': 'SC Ganguly',\n",
              "       'non_striker': 'P Kumar',\n",
              "       'runs': {'batsman': 4, 'extras': 0, 'total': 4}}},\n",
              "     {9.7: {'batsman': 'AA Noffke',\n",
              "       'bowler': 'SC Ganguly',\n",
              "       'non_striker': 'P Kumar',\n",
              "       'runs': {'batsman': 1, 'extras': 0, 'total': 1}}},\n",
              "     {10.1: {'batsman': 'AA Noffke',\n",
              "       'bowler': 'AB Agarkar',\n",
              "       'non_striker': 'P Kumar',\n",
              "       'runs': {'batsman': 0, 'extras': 0, 'total': 0}}},\n",
              "     {10.2: {'batsman': 'AA Noffke',\n",
              "       'bowler': 'AB Agarkar',\n",
              "       'non_striker': 'P Kumar',\n",
              "       'runs': {'batsman': 0, 'extras': 0, 'total': 0}}},\n",
              "     {10.3: {'batsman': 'AA Noffke',\n",
              "       'bowler': 'AB Agarkar',\n",
              "       'non_striker': 'P Kumar',\n",
              "       'runs': {'batsman': 0, 'extras': 0, 'total': 0}}},\n",
              "     {10.4: {'batsman': 'AA Noffke',\n",
              "       'bowler': 'AB Agarkar',\n",
              "       'non_striker': 'P Kumar',\n",
              "       'runs': {'batsman': 1, 'extras': 0, 'total': 1}}},\n",
              "     {10.5: {'batsman': 'P Kumar',\n",
              "       'bowler': 'AB Agarkar',\n",
              "       'non_striker': 'AA Noffke',\n",
              "       'runs': {'batsman': 4, 'extras': 0, 'total': 4}}},\n",
              "     {10.6: {'batsman': 'P Kumar',\n",
              "       'bowler': 'AB Agarkar',\n",
              "       'non_striker': 'AA Noffke',\n",
              "       'runs': {'batsman': 0, 'extras': 0, 'total': 0}}},\n",
              "     {11.1: {'batsman': 'AA Noffke',\n",
              "       'bowler': 'SC Ganguly',\n",
              "       'non_striker': 'P Kumar',\n",
              "       'runs': {'batsman': 1, 'extras': 0, 'total': 1},\n",
              "       'wicket': {'fielders': ['AB Agarkar', 'WP Saha'],\n",
              "        'kind': 'run out',\n",
              "        'player_out': 'AA Noffke'}}},\n",
              "     {11.2: {'batsman': 'Z Khan',\n",
              "       'bowler': 'SC Ganguly',\n",
              "       'non_striker': 'P Kumar',\n",
              "       'runs': {'batsman': 0, 'extras': 0, 'total': 0}}},\n",
              "     {11.3: {'batsman': 'Z Khan',\n",
              "       'bowler': 'SC Ganguly',\n",
              "       'non_striker': 'P Kumar',\n",
              "       'runs': {'batsman': 0, 'extras': 0, 'total': 0}}},\n",
              "     {11.4: {'batsman': 'Z Khan',\n",
              "       'bowler': 'SC Ganguly',\n",
              "       'non_striker': 'P Kumar',\n",
              "       'runs': {'batsman': 1, 'extras': 0, 'total': 1}}},\n",
              "     {11.5: {'batsman': 'P Kumar',\n",
              "       'bowler': 'SC Ganguly',\n",
              "       'non_striker': 'Z Khan',\n",
              "       'runs': {'batsman': 0, 'extras': 0, 'total': 0}}},\n",
              "     {11.6: {'batsman': 'P Kumar',\n",
              "       'bowler': 'SC Ganguly',\n",
              "       'non_striker': 'Z Khan',\n",
              "       'runs': {'batsman': 1, 'extras': 0, 'total': 1}}},\n",
              "     {12.1: {'batsman': 'P Kumar',\n",
              "       'bowler': 'LR Shukla',\n",
              "       'non_striker': 'Z Khan',\n",
              "       'runs': {'batsman': 6, 'extras': 0, 'total': 6}}},\n",
              "     {12.2: {'batsman': 'P Kumar',\n",
              "       'bowler': 'LR Shukla',\n",
              "       'extras': {'wides': 2},\n",
              "       'non_striker': 'Z Khan',\n",
              "       'runs': {'batsman': 0, 'extras': 2, 'total': 2}}},\n",
              "     {12.3: {'batsman': 'Z Khan',\n",
              "       'bowler': 'LR Shukla',\n",
              "       'non_striker': 'P Kumar',\n",
              "       'runs': {'batsman': 1, 'extras': 0, 'total': 1}}},\n",
              "     {12.4: {'batsman': 'P Kumar',\n",
              "       'bowler': 'LR Shukla',\n",
              "       'non_striker': 'Z Khan',\n",
              "       'runs': {'batsman': 1, 'extras': 0, 'total': 1}}},\n",
              "     {12.5: {'batsman': 'Z Khan',\n",
              "       'bowler': 'LR Shukla',\n",
              "       'non_striker': 'P Kumar',\n",
              "       'runs': {'batsman': 0, 'extras': 0, 'total': 0}}},\n",
              "     {12.6: {'batsman': 'Z Khan',\n",
              "       'bowler': 'LR Shukla',\n",
              "       'non_striker': 'P Kumar',\n",
              "       'runs': {'batsman': 0, 'extras': 0, 'total': 0}}},\n",
              "     {12.7: {'batsman': 'Z Khan',\n",
              "       'bowler': 'LR Shukla',\n",
              "       'non_striker': 'P Kumar',\n",
              "       'runs': {'batsman': 1, 'extras': 0, 'total': 1}}},\n",
              "     {13.1: {'batsman': 'Z Khan',\n",
              "       'bowler': 'SC Ganguly',\n",
              "       'non_striker': 'P Kumar',\n",
              "       'runs': {'batsman': 0, 'extras': 0, 'total': 0},\n",
              "       'wicket': {'kind': 'bowled', 'player_out': 'Z Khan'}}},\n",
              "     {13.2: {'batsman': 'SB Joshi',\n",
              "       'bowler': 'SC Ganguly',\n",
              "       'non_striker': 'P Kumar',\n",
              "       'runs': {'batsman': 1, 'extras': 0, 'total': 1}}},\n",
              "     {13.3: {'batsman': 'P Kumar',\n",
              "       'bowler': 'SC Ganguly',\n",
              "       'non_striker': 'SB Joshi',\n",
              "       'runs': {'batsman': 0, 'extras': 0, 'total': 0}}},\n",
              "     {13.4: {'batsman': 'P Kumar',\n",
              "       'bowler': 'SC Ganguly',\n",
              "       'non_striker': 'SB Joshi',\n",
              "       'runs': {'batsman': 0, 'extras': 0, 'total': 0}}},\n",
              "     {13.5: {'batsman': 'P Kumar',\n",
              "       'bowler': 'SC Ganguly',\n",
              "       'non_striker': 'SB Joshi',\n",
              "       'runs': {'batsman': 0, 'extras': 0, 'total': 0}}},\n",
              "     {13.6: {'batsman': 'P Kumar',\n",
              "       'bowler': 'SC Ganguly',\n",
              "       'non_striker': 'SB Joshi',\n",
              "       'runs': {'batsman': 6, 'extras': 0, 'total': 6}}},\n",
              "     {14.1: {'batsman': 'SB Joshi',\n",
              "       'bowler': 'I Sharma',\n",
              "       'extras': {'wides': 1},\n",
              "       'non_striker': 'P Kumar',\n",
              "       'runs': {'batsman': 0, 'extras': 1, 'total': 1}}},\n",
              "     {14.2: {'batsman': 'SB Joshi',\n",
              "       'bowler': 'I Sharma',\n",
              "       'non_striker': 'P Kumar',\n",
              "       'runs': {'batsman': 0, 'extras': 0, 'total': 0}}},\n",
              "     {14.3: {'batsman': 'SB Joshi',\n",
              "       'bowler': 'I Sharma',\n",
              "       'non_striker': 'P Kumar',\n",
              "       'runs': {'batsman': 0, 'extras': 0, 'total': 0}}},\n",
              "     {14.4: {'batsman': 'SB Joshi',\n",
              "       'bowler': 'I Sharma',\n",
              "       'non_striker': 'P Kumar',\n",
              "       'runs': {'batsman': 1, 'extras': 0, 'total': 1}}},\n",
              "     {14.5: {'batsman': 'P Kumar',\n",
              "       'bowler': 'I Sharma',\n",
              "       'extras': {'legbyes': 1},\n",
              "       'non_striker': 'SB Joshi',\n",
              "       'runs': {'batsman': 0, 'extras': 1, 'total': 1}}},\n",
              "     {14.6: {'batsman': 'SB Joshi',\n",
              "       'bowler': 'I Sharma',\n",
              "       'non_striker': 'P Kumar',\n",
              "       'runs': {'batsman': 1, 'extras': 0, 'total': 1}}},\n",
              "     {14.7: {'batsman': 'P Kumar',\n",
              "       'bowler': 'I Sharma',\n",
              "       'non_striker': 'SB Joshi',\n",
              "       'runs': {'batsman': 0, 'extras': 0, 'total': 0}}},\n",
              "     {15.1: {'batsman': 'SB Joshi',\n",
              "       'bowler': 'LR Shukla',\n",
              "       'extras': {'wides': 1},\n",
              "       'non_striker': 'P Kumar',\n",
              "       'runs': {'batsman': 0, 'extras': 1, 'total': 1}}},\n",
              "     {15.2: {'batsman': 'SB Joshi',\n",
              "       'bowler': 'LR Shukla',\n",
              "       'non_striker': 'P Kumar',\n",
              "       'runs': {'batsman': 0, 'extras': 0, 'total': 0},\n",
              "       'wicket': {'fielders': ['BB McCullum'],\n",
              "        'kind': 'caught',\n",
              "        'player_out': 'SB Joshi'}}}]}}]}"
            ]
          },
          "metadata": {
            "tags": []
          },
          "execution_count": 11
        }
      ]
    },
    {
      "cell_type": "markdown",
      "metadata": {
        "id": "bMzpi5QF9bP4",
        "colab_type": "text"
      },
      "source": [
        "Now let's find answers to some prilminary questions such as "
      ]
    },
    {
      "cell_type": "markdown",
      "metadata": {
        "id": "2Dbm2hrR9bP8",
        "colab_type": "text"
      },
      "source": [
        "### Can you guess the data type with which your working on ?"
      ]
    },
    {
      "cell_type": "code",
      "metadata": {
        "id": "oqpRyp7L9bP-",
        "colab_type": "code",
        "colab": {}
      },
      "source": [
        ""
      ],
      "execution_count": 0,
      "outputs": []
    },
    {
      "cell_type": "markdown",
      "metadata": {
        "id": "SScFh5DO9bQG",
        "colab_type": "text"
      },
      "source": [
        "### In which city the match was played and where was it played ?"
      ]
    },
    {
      "cell_type": "code",
      "metadata": {
        "id": "llG8U9jT9bQI",
        "colab_type": "code",
        "colab": {
          "base_uri": "https://localhost:8080/",
          "height": 34
        },
        "outputId": "2423dbf0-b519-4efe-f33d-26929d54a933"
      },
      "source": [
        "data['info']['city']"
      ],
      "execution_count": 9,
      "outputs": [
        {
          "output_type": "execute_result",
          "data": {
            "text/plain": [
              "'Bangalore'"
            ]
          },
          "metadata": {
            "tags": []
          },
          "execution_count": 9
        }
      ]
    },
    {
      "cell_type": "code",
      "metadata": {
        "id": "FzacF0TH9bQP",
        "colab_type": "code",
        "colab": {
          "base_uri": "https://localhost:8080/",
          "height": 34
        },
        "outputId": "02d2231e-560e-4a86-85d4-d92947463e9b"
      },
      "source": [
        "data['info']['venue']"
      ],
      "execution_count": 10,
      "outputs": [
        {
          "output_type": "execute_result",
          "data": {
            "text/plain": [
              "'M Chinnaswamy Stadium'"
            ]
          },
          "metadata": {
            "tags": []
          },
          "execution_count": 10
        }
      ]
    },
    {
      "cell_type": "markdown",
      "metadata": {
        "id": "OixcRliS9bQV",
        "colab_type": "text"
      },
      "source": [
        "### Which are all the teams that played in the tournament ? How many teams participated  in total?"
      ]
    },
    {
      "cell_type": "code",
      "metadata": {
        "id": "1mkpnl9f9bQY",
        "colab_type": "code",
        "colab": {
          "base_uri": "https://localhost:8080/",
          "height": 34
        },
        "outputId": "ca853c29-4e0c-499a-c3c0-d5f430a31f8a"
      },
      "source": [
        "print(data['info']['teams'])"
      ],
      "execution_count": 14,
      "outputs": [
        {
          "output_type": "stream",
          "text": [
            "['Royal Challengers Bangalore', 'Kolkata Knight Riders']\n"
          ],
          "name": "stdout"
        }
      ]
    },
    {
      "cell_type": "code",
      "metadata": {
        "id": "peNlXOChHT3W",
        "colab_type": "code",
        "colab": {
          "base_uri": "https://localhost:8080/",
          "height": 34
        },
        "outputId": "ef7c6a19-c7d1-4b06-c8ce-8ce25acb4587"
      },
      "source": [
        "print(len(data['info']['teams']))"
      ],
      "execution_count": 19,
      "outputs": [
        {
          "output_type": "stream",
          "text": [
            "2\n"
          ],
          "name": "stdout"
        }
      ]
    },
    {
      "cell_type": "markdown",
      "metadata": {
        "id": "eXIBYch99bQk",
        "colab_type": "text"
      },
      "source": [
        "### Which team won the toss and what was the decision of toss winner ?"
      ]
    },
    {
      "cell_type": "code",
      "metadata": {
        "id": "7ivkjPvj9bQm",
        "colab_type": "code",
        "colab": {
          "base_uri": "https://localhost:8080/",
          "height": 34
        },
        "outputId": "c2d51bb8-8218-4500-ba3a-cb26589771b0"
      },
      "source": [
        "print(data['info']['toss']['winner'])"
      ],
      "execution_count": 21,
      "outputs": [
        {
          "output_type": "stream",
          "text": [
            "Royal Challengers Bangalore\n"
          ],
          "name": "stdout"
        }
      ]
    },
    {
      "cell_type": "code",
      "metadata": {
        "id": "0t92SdA7JHoP",
        "colab_type": "code",
        "colab": {
          "base_uri": "https://localhost:8080/",
          "height": 34
        },
        "outputId": "64e90027-2636-4055-c124-c564447ae51f"
      },
      "source": [
        "print(data['info']['toss']['decision'])"
      ],
      "execution_count": 23,
      "outputs": [
        {
          "output_type": "stream",
          "text": [
            "field\n"
          ],
          "name": "stdout"
        }
      ]
    },
    {
      "cell_type": "code",
      "metadata": {
        "id": "5WdEXGlXF_tV",
        "colab_type": "code",
        "colab": {}
      },
      "source": [
        ""
      ],
      "execution_count": 0,
      "outputs": []
    },
    {
      "cell_type": "code",
      "metadata": {
        "id": "qB3vMgR79bQs",
        "colab_type": "code",
        "colab": {}
      },
      "source": [
        ""
      ],
      "execution_count": 0,
      "outputs": []
    },
    {
      "cell_type": "markdown",
      "metadata": {
        "id": "76ELwNAi9bQz",
        "colab_type": "text"
      },
      "source": [
        "### Find the first bowler who played the first ball of the first inning. Also the first batsman who faced first delivery ?"
      ]
    },
    {
      "cell_type": "code",
      "metadata": {
        "id": "3lyruOsc9bQ1",
        "colab_type": "code",
        "colab": {
          "base_uri": "https://localhost:8080/",
          "height": 34
        },
        "outputId": "dbf69094-a187-4d84-eb9f-a8b95e5df47b"
      },
      "source": [
        "print (data['innings'][0]['1st innings']['deliveries'][0][0.1]['batsman'])"
      ],
      "execution_count": 32,
      "outputs": [
        {
          "output_type": "stream",
          "text": [
            "SC Ganguly\n"
          ],
          "name": "stdout"
        }
      ]
    },
    {
      "cell_type": "code",
      "metadata": {
        "id": "A0urBlp3McxC",
        "colab_type": "code",
        "colab": {
          "base_uri": "https://localhost:8080/",
          "height": 34
        },
        "outputId": "1181c006-880d-494c-d595-13e548100f09"
      },
      "source": [
        "print (data['innings'][0]['1st innings']['deliveries'][0][0.1]['bowler'])"
      ],
      "execution_count": 33,
      "outputs": [
        {
          "output_type": "stream",
          "text": [
            "P Kumar\n"
          ],
          "name": "stdout"
        }
      ]
    },
    {
      "cell_type": "code",
      "metadata": {
        "id": "8S-TjDHtMI3y",
        "colab_type": "code",
        "colab": {}
      },
      "source": [
        ""
      ],
      "execution_count": 0,
      "outputs": []
    },
    {
      "cell_type": "markdown",
      "metadata": {
        "id": "8OcRZpc69bRA",
        "colab_type": "text"
      },
      "source": [
        "### How many deliveries were delivered in first inning ?"
      ]
    },
    {
      "cell_type": "code",
      "metadata": {
        "id": "KPxgOZRu9bRC",
        "colab_type": "code",
        "colab": {
          "base_uri": "https://localhost:8080/",
          "height": 34
        },
        "outputId": "baa29d1c-c0f3-4895-eeaf-cd08befd3040"
      },
      "source": [
        "print(len(data['innings'][0]['1st innings']['deliveries']))"
      ],
      "execution_count": 40,
      "outputs": [
        {
          "output_type": "stream",
          "text": [
            "124\n"
          ],
          "name": "stdout"
        }
      ]
    },
    {
      "cell_type": "markdown",
      "metadata": {
        "id": "NFOZOIZ-9bRJ",
        "colab_type": "text"
      },
      "source": [
        "### How many deliveries were delivered in second inning ?"
      ]
    },
    {
      "cell_type": "code",
      "metadata": {
        "id": "IWLeejh19bRK",
        "colab_type": "code",
        "colab": {
          "base_uri": "https://localhost:8080/",
          "height": 34
        },
        "outputId": "6196c6ef-f6b3-4a40-a3ef-9722a7b43fe4"
      },
      "source": [
        "print(len(data.get('innings')[1].get('2nd innings').get('deliveries')))"
      ],
      "execution_count": 43,
      "outputs": [
        {
          "output_type": "stream",
          "text": [
            "101\n"
          ],
          "name": "stdout"
        }
      ]
    },
    {
      "cell_type": "markdown",
      "metadata": {
        "id": "fzsgc41k9bRR",
        "colab_type": "text"
      },
      "source": [
        "### Which team won and how ?\n"
      ]
    },
    {
      "cell_type": "code",
      "metadata": {
        "id": "VJgnipP69bRT",
        "colab_type": "code",
        "colab": {}
      },
      "source": [
        ""
      ],
      "execution_count": 0,
      "outputs": []
    }
  ]
}