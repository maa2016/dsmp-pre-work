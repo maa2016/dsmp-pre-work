{
  "nbformat": 4,
  "nbformat_minor": 0,
  "metadata": {
    "kernelspec": {
      "display_name": "Python 3",
      "language": "python",
      "name": "python3"
    },
    "language_info": {
      "codemirror_mode": {
        "name": "ipython",
        "version": 3
      },
      "file_extension": ".py",
      "mimetype": "text/x-python",
      "name": "python",
      "nbconvert_exporter": "python",
      "pygments_lexer": "ipython3",
      "version": "3.6.7"
    },
    "colab": {
      "name": "Manipulating Data with NumPy Code Along.ipynb",
      "version": "0.3.2",
      "provenance": [],
      "collapsed_sections": [],
      "toc_visible": true,
      "include_colab_link": true
    }
  },
  "cells": [
    {
      "cell_type": "markdown",
      "metadata": {
        "id": "view-in-github",
        "colab_type": "text"
      },
      "source": [
        "<a href=\"https://colab.research.google.com/github/maa2016/dsmp-pre-work/blob/master/Manipulating_Data_with_NumPy_Code_Along.ipynb\" target=\"_parent\"><img src=\"https://colab.research.google.com/assets/colab-badge.svg\" alt=\"Open In Colab\"/></a>"
      ]
    },
    {
      "cell_type": "markdown",
      "metadata": {
        "id": "n8JyKOQrRAXR",
        "colab_type": "text"
      },
      "source": [
        "# IPL Dataset Analysis\n",
        "\n",
        "## Problem Statement\n",
        "We want to know as to what happens during an IPL match which raises several questions in our mind with our limited knowledge about the game called cricket on which it is based. This analysis is done to know as which factors led one of the team to win and how does it matter."
      ]
    },
    {
      "cell_type": "markdown",
      "metadata": {
        "id": "xFQGHN5bRAXV",
        "colab_type": "text"
      },
      "source": [
        "## About the Dataset :\n",
        "The Indian Premier League (IPL) is a professional T20 cricket league in India contested during April-May of every year by teams representing Indian cities. It is the most-attended cricket league in the world and ranks sixth among all the sports leagues. It has teams with players from around the world and is very competitive and entertaining with a lot of close matches between teams.\n",
        "\n",
        "The IPL and other cricket related datasets are available at [cricsheet.org](https://cricsheet.org/%c2%a0(data). Feel free to visit the website and explore the data by yourself as exploring new sources of data is one of the interesting activities a data scientist gets to do.\n",
        "\n",
        "## About the dataset:\n",
        "Snapshot of the data you will be working on:<br>\n",
        "<br>\n",
        "The dataset 1452 data points and 23 features<br>\n",
        "\n",
        "|Features|Description|\n",
        "|-----|-----|\n",
        "|match_code|Code pertaining to individual match|\n",
        "|date|Date of the match played|\n",
        "|city|Location where the match was played|\n",
        "|team1|team1|\n",
        "|team2|team2|\n",
        "|toss_winner|Who won the toss out of two teams|\n",
        "|toss_decision|toss decision taken by toss winner|\n",
        "|winner|Winner of that match between two teams|\n",
        "|win_type|How did the team won(by wickets or runs etc.)|\n",
        "|win_margin|difference with which the team won| \n",
        "|inning|inning type(1st or 2nd)|\n",
        "|delivery|ball delivery|\n",
        "|batting_team|current team on batting|\n",
        "|batsman|current batsman on strike|\n",
        "|non_striker|batsman on non-strike|\n",
        "|bowler|Current bowler|\n",
        "|runs|runs scored|\n",
        "|extras|extra run scored|\n",
        "|total|total run scored on that delivery including runs and extras|\n",
        "|extras_type|extra run scored by wides or no ball or legby|\n",
        "|player_out|player that got out|\n",
        "|wicket_kind|How did the player got out|\n",
        "|wicket_fielders|Fielder who caught out the player by catch|\n"
      ]
    },
    {
      "cell_type": "markdown",
      "metadata": {
        "id": "MOIgvQ0ORAXX",
        "colab_type": "text"
      },
      "source": [
        "### Analysing data using numpy module"
      ]
    },
    {
      "cell_type": "markdown",
      "metadata": {
        "id": "O36sDEoXRAXZ",
        "colab_type": "text"
      },
      "source": [
        "### Read the data using numpy module."
      ]
    },
    {
      "cell_type": "code",
      "metadata": {
        "id": "i5IQEUq5RAXg",
        "colab_type": "code",
        "colab": {}
      },
      "source": [
        "import numpy as np\n",
        "# Not every data format will be in csv there are other file formats also.\n",
        "# This exercise will help you deal with other file formats and how toa read it.\n",
        "path = '/content/ipl_matches_small.csv'\n",
        "data_ipl = np.genfromtxt(path, delimiter=',', skip_header=1, dtype=str)\n",
        "\n"
      ],
      "execution_count": 0,
      "outputs": []
    },
    {
      "cell_type": "code",
      "metadata": {
        "id": "jfzQ0T67RAXp",
        "colab_type": "code",
        "outputId": "b8fc6455-d9a7-4c7b-c4f5-39fd1d35a1f5",
        "colab": {}
      },
      "source": [
        "data_ipl[:,3]"
      ],
      "execution_count": 0,
      "outputs": [
        {
          "output_type": "execute_result",
          "data": {
            "text/plain": [
              "array(['Kolkata Knight Riders', 'Kolkata Knight Riders',\n",
              "       'Kolkata Knight Riders', ..., 'Rajasthan Royals',\n",
              "       'Rajasthan Royals', 'Rajasthan Royals'], dtype='<U21')"
            ]
          },
          "metadata": {
            "tags": []
          },
          "execution_count": 2
        }
      ]
    },
    {
      "cell_type": "markdown",
      "metadata": {
        "id": "wRxwhi9GRAXz",
        "colab_type": "text"
      },
      "source": [
        "### Calculate the unique no. of matches in the provided dataset ?"
      ]
    },
    {
      "cell_type": "code",
      "metadata": {
        "id": "JjBo0DNDRAX1",
        "colab_type": "code",
        "colab": {
          "base_uri": "https://localhost:8080/",
          "height": 51
        },
        "outputId": "c3747555-fbc5-4557-9f08-6755d5109353"
      },
      "source": [
        "# How many matches were held in total we need to know so that we can analyze further statistics keeping that in mind.\n",
        "match_codes = np.unique(data_ipl[:,0])\n",
        "print(match_codes)\n",
        "print(len(match_codes))\n",
        "\n"
      ],
      "execution_count": 11,
      "outputs": [
        {
          "output_type": "stream",
          "text": [
            "['335987' '392197' '392203' '392212' '501226' '729297']\n",
            "6\n"
          ],
          "name": "stdout"
        }
      ]
    },
    {
      "cell_type": "markdown",
      "metadata": {
        "id": "nXLGzT55RAX8",
        "colab_type": "text"
      },
      "source": [
        "### Find the set of all unique teams that played in the matches in the data set."
      ]
    },
    {
      "cell_type": "code",
      "metadata": {
        "id": "hggiDJaHRAX-",
        "colab_type": "code",
        "colab": {}
      },
      "source": [
        "# this exercise deals with you getting to know that which are all those six teams that played in the tournament.\n"
      ],
      "execution_count": 0,
      "outputs": []
    },
    {
      "cell_type": "code",
      "metadata": {
        "id": "mpu2MVSTRAYF",
        "colab_type": "code",
        "colab": {
          "base_uri": "https://localhost:8080/",
          "height": 68
        },
        "outputId": "b17f7dd2-6096-476a-8bc4-41f3e7c1a415"
      },
      "source": [
        "team_1 = np.unique(data_ipl[:,3:5])\n",
        "print(team_1)\n",
        "\n"
      ],
      "execution_count": 12,
      "outputs": [
        {
          "output_type": "stream",
          "text": [
            "['Chennai Super Kings' 'Deccan Chargers' 'Kings XI Punjab'\n",
            " 'Kolkata Knight Riders' 'Mumbai Indians' 'Pune Warriors'\n",
            " 'Rajasthan Royals']\n"
          ],
          "name": "stdout"
        }
      ]
    },
    {
      "cell_type": "markdown",
      "metadata": {
        "id": "tLnYS1YvRAYL",
        "colab_type": "text"
      },
      "source": [
        "### Find sum of all extras in all deliveries in all matches in the dataset"
      ]
    },
    {
      "cell_type": "code",
      "metadata": {
        "id": "JJDFg0jYRAYO",
        "colab_type": "code",
        "colab": {
          "base_uri": "https://localhost:8080/",
          "height": 34
        },
        "outputId": "72196aa6-1d27-4f08-a8f5-86f4a0934659"
      },
      "source": [
        "# An exercise to make you familiar with indexing and slicing up within data.\n",
        "extras = sum(data_ipl[:,17].astype(int))\n",
        "print(extras)"
      ],
      "execution_count": 13,
      "outputs": [
        {
          "output_type": "stream",
          "text": [
            "88\n"
          ],
          "name": "stdout"
        }
      ]
    },
    {
      "cell_type": "markdown",
      "metadata": {
        "id": "rCDyW6iYRAYb",
        "colab_type": "text"
      },
      "source": [
        "### Get the array of all delivery numbers when a given player got out. Also mention the wicket type."
      ]
    },
    {
      "cell_type": "code",
      "metadata": {
        "id": "XGr-UMQ1RAYe",
        "colab_type": "code",
        "colab": {
          "base_uri": "https://localhost:8080/",
          "height": 51
        },
        "outputId": "4d3a9c26-a961-4f71-f3b5-9702d9b66005"
      },
      "source": [
        "player = input('Enter player Name : ')\n",
        "delivery = data_ipl[data_ipl[:,20] == player]\n",
        "print(delivery[0][11])"
      ],
      "execution_count": 21,
      "outputs": [
        {
          "output_type": "stream",
          "text": [
            "Enter player Name : ST Jayasuriya\n",
            "3.2\n"
          ],
          "name": "stdout"
        }
      ]
    },
    {
      "cell_type": "code",
      "metadata": {
        "id": "kVdtCI9GRAYk",
        "colab_type": "code",
        "colab": {
          "base_uri": "https://localhost:8080/",
          "height": 34
        },
        "outputId": "0404cb82-7165-4d1e-d622-f0d796cd6f80"
      },
      "source": [
        "wicket_type = delivery[0][21]\n",
        "print(wicket_type)"
      ],
      "execution_count": 16,
      "outputs": [
        {
          "output_type": "stream",
          "text": [
            "run out\n"
          ],
          "name": "stdout"
        }
      ]
    },
    {
      "cell_type": "markdown",
      "metadata": {
        "id": "ukRpR7PJRAYs",
        "colab_type": "text"
      },
      "source": [
        "### How many matches the team `Mumbai Indians` has won the toss?"
      ]
    },
    {
      "cell_type": "code",
      "metadata": {
        "id": "n0aXA2yyRAYu",
        "colab_type": "code",
        "colab": {
          "base_uri": "https://localhost:8080/",
          "height": 34
        },
        "outputId": "c07e6442-3bc1-41c9-8c48-41a166c8cde2"
      },
      "source": [
        "# this exercise will help you get the statistics on one particular team\n",
        "no_of_toss_wins = np.unique(data_ipl[data_ipl[:,5] == 'Mumbai Indians'][:,0])\n",
        "print(len(no_of_toss_wins))"
      ],
      "execution_count": 17,
      "outputs": [
        {
          "output_type": "stream",
          "text": [
            "2\n"
          ],
          "name": "stdout"
        }
      ]
    },
    {
      "cell_type": "markdown",
      "metadata": {
        "id": "KlPjyctQRAY0",
        "colab_type": "text"
      },
      "source": [
        "### Create a filter that filters only those records where the batsman scored 6 runs. Also who has scored the maximum no. of sixes overall ?"
      ]
    },
    {
      "cell_type": "code",
      "metadata": {
        "id": "wKbe7Qs2RAY3",
        "colab_type": "code",
        "colab": {}
      },
      "source": [
        "# An exercise to know who is the most aggresive player or maybe the scoring player \n"
      ],
      "execution_count": 0,
      "outputs": []
    },
    {
      "cell_type": "code",
      "metadata": {
        "id": "Mp7xK-QgRAY9",
        "colab_type": "code",
        "colab": {}
      },
      "source": [
        ""
      ],
      "execution_count": 0,
      "outputs": []
    }
  ]
}